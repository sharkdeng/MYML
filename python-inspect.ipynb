{
 "cells": [
  {
   "cell_type": "markdown",
   "metadata": {},
   "source": [
    "## write funciton to file"
   ]
  },
  {
   "cell_type": "code",
   "execution_count": 14,
   "metadata": {},
   "outputs": [],
   "source": [
    "import inspect\n",
    "\n",
    "def ok():\n",
    "    print(\"ok\")\n",
    "    \n",
    "f = open('inspect-1.py', 'w')\n",
    "f.write(inspect.getsource(ok))\n",
    "f.close()"
   ]
  },
  {
   "cell_type": "code",
   "execution_count": 15,
   "metadata": {},
   "outputs": [
    {
     "name": "stdout",
     "output_type": "stream",
     "text": [
      "def ok():\r\n",
      "    print(\"ok\")\r\n"
     ]
    }
   ],
   "source": [
    "!cat inspect-1.py"
   ]
  },
  {
   "cell_type": "markdown",
   "metadata": {},
   "source": [
    "## write block to file"
   ]
  },
  {
   "cell_type": "code",
   "execution_count": 16,
   "metadata": {},
   "outputs": [
    {
     "name": "stdout",
     "output_type": "stream",
     "text": [
      "Writing inspect-2.py\n"
     ]
    }
   ],
   "source": [
    "%%writefile inspect-2.py\n",
    "\n",
    "import random\n",
    "import numpy as np\n",
    "\n",
    "def myagent():\n",
    "    print(\"what do you want your agent do?\")"
   ]
  },
  {
   "cell_type": "code",
   "execution_count": 17,
   "metadata": {},
   "outputs": [
    {
     "name": "stdout",
     "output_type": "stream",
     "text": [
      "\r\n",
      "import random\r\n",
      "import numpy as np\r\n",
      "\r\n",
      "def myagent():\r\n",
      "    print(\"what do you want your agent do?\")\r\n"
     ]
    }
   ],
   "source": [
    "!cat inspect-2.py"
   ]
  },
  {
   "cell_type": "code",
   "execution_count": null,
   "metadata": {},
   "outputs": [],
   "source": []
  }
 ],
 "metadata": {
  "kernelspec": {
   "display_name": "Python 3",
   "language": "python",
   "name": "python3"
  },
  "language_info": {
   "codemirror_mode": {
    "name": "ipython",
    "version": 3
   },
   "file_extension": ".py",
   "mimetype": "text/x-python",
   "name": "python",
   "nbconvert_exporter": "python",
   "pygments_lexer": "ipython3",
   "version": "3.8.3"
  }
 },
 "nbformat": 4,
 "nbformat_minor": 4
}
